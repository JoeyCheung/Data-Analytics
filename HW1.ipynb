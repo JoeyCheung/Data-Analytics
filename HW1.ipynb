{
 "cells": [
  {
   "cell_type": "markdown",
   "metadata": {},
   "source": [
    "## HomeWork 1 Due at Mid-night 9/16/2019"
   ]
  },
  {
   "cell_type": "markdown",
   "metadata": {},
   "source": [
    "## Late Policy: Take off 50% after one day, 80% after two days"
   ]
  },
  {
   "cell_type": "markdown",
   "metadata": {},
   "source": [
    "**Make sure you have pandasql installed. If not, make sure you run the code in the following cell**"
   ]
  },
  {
   "cell_type": "code",
   "execution_count": 1,
   "metadata": {
    "collapsed": true
   },
   "outputs": [],
   "source": [
    "import os\n",
    "try:\n",
    "    import pandasql as ps\n",
    "except:\n",
    "    print(\"Failed in import pandasql\")\n",
    "    os.system(\"pip install pandasql\")"
   ]
  },
  {
   "cell_type": "markdown",
   "metadata": {},
   "source": [
    "**Import all standard libaries**"
   ]
  },
  {
   "cell_type": "code",
   "execution_count": 2,
   "metadata": {
    "collapsed": true
   },
   "outputs": [],
   "source": [
    "import pandas as pd\n",
    "import pandasql as ps\n",
    "import numpy as np\n",
    "import matplotlib.pyplot as plt\n",
    "import seaborn as sns"
   ]
  },
  {
   "cell_type": "markdown",
   "metadata": {},
   "source": [
    "## Loading MPG dataset ##"
   ]
  },
  {
   "cell_type": "code",
   "execution_count": 3,
   "metadata": {},
   "outputs": [
    {
     "name": "stdout",
     "output_type": "stream",
     "text": [
      "(400, 9)\n"
     ]
    },
    {
     "data": {
      "text/html": [
       "<div>\n",
       "<style>\n",
       "    .dataframe thead tr:only-child th {\n",
       "        text-align: right;\n",
       "    }\n",
       "\n",
       "    .dataframe thead th {\n",
       "        text-align: left;\n",
       "    }\n",
       "\n",
       "    .dataframe tbody tr th {\n",
       "        vertical-align: top;\n",
       "    }\n",
       "</style>\n",
       "<table border=\"1\" class=\"dataframe\">\n",
       "  <thead>\n",
       "    <tr style=\"text-align: right;\">\n",
       "      <th></th>\n",
       "      <th>mpg</th>\n",
       "      <th>cylinders</th>\n",
       "      <th>displacement</th>\n",
       "      <th>horsepower</th>\n",
       "      <th>weight</th>\n",
       "      <th>acceleration</th>\n",
       "      <th>model_year</th>\n",
       "      <th>origin</th>\n",
       "      <th>name</th>\n",
       "    </tr>\n",
       "  </thead>\n",
       "  <tbody>\n",
       "    <tr>\n",
       "      <th>0</th>\n",
       "      <td>18.0</td>\n",
       "      <td>8</td>\n",
       "      <td>307.0</td>\n",
       "      <td>130.0</td>\n",
       "      <td>3504</td>\n",
       "      <td>12.0</td>\n",
       "      <td>70</td>\n",
       "      <td>usa</td>\n",
       "      <td>chevrolet chevelle malibu</td>\n",
       "    </tr>\n",
       "    <tr>\n",
       "      <th>1</th>\n",
       "      <td>15.0</td>\n",
       "      <td>8</td>\n",
       "      <td>350.0</td>\n",
       "      <td>165.0</td>\n",
       "      <td>3693</td>\n",
       "      <td>11.5</td>\n",
       "      <td>70</td>\n",
       "      <td>usa</td>\n",
       "      <td>buick skylark 320</td>\n",
       "    </tr>\n",
       "    <tr>\n",
       "      <th>2</th>\n",
       "      <td>18.0</td>\n",
       "      <td>8</td>\n",
       "      <td>318.0</td>\n",
       "      <td>150.0</td>\n",
       "      <td>3436</td>\n",
       "      <td>11.0</td>\n",
       "      <td>70</td>\n",
       "      <td>usa</td>\n",
       "      <td>plymouth satellite</td>\n",
       "    </tr>\n",
       "    <tr>\n",
       "      <th>3</th>\n",
       "      <td>16.0</td>\n",
       "      <td>8</td>\n",
       "      <td>304.0</td>\n",
       "      <td>150.0</td>\n",
       "      <td>3433</td>\n",
       "      <td>12.0</td>\n",
       "      <td>70</td>\n",
       "      <td>usa</td>\n",
       "      <td>amc rebel sst</td>\n",
       "    </tr>\n",
       "    <tr>\n",
       "      <th>4</th>\n",
       "      <td>17.0</td>\n",
       "      <td>8</td>\n",
       "      <td>302.0</td>\n",
       "      <td>140.0</td>\n",
       "      <td>3449</td>\n",
       "      <td>10.5</td>\n",
       "      <td>70</td>\n",
       "      <td>usa</td>\n",
       "      <td>ford torino</td>\n",
       "    </tr>\n",
       "  </tbody>\n",
       "</table>\n",
       "</div>"
      ],
      "text/plain": [
       "    mpg  cylinders  displacement  horsepower  weight  acceleration  \\\n",
       "0  18.0          8         307.0       130.0    3504          12.0   \n",
       "1  15.0          8         350.0       165.0    3693          11.5   \n",
       "2  18.0          8         318.0       150.0    3436          11.0   \n",
       "3  16.0          8         304.0       150.0    3433          12.0   \n",
       "4  17.0          8         302.0       140.0    3449          10.5   \n",
       "\n",
       "   model_year origin                       name  \n",
       "0          70    usa  chevrolet chevelle malibu  \n",
       "1          70    usa          buick skylark 320  \n",
       "2          70    usa         plymouth satellite  \n",
       "3          70    usa              amc rebel sst  \n",
       "4          70    usa                ford torino  "
      ]
     },
     "execution_count": 3,
     "metadata": {},
     "output_type": "execute_result"
    }
   ],
   "source": [
    "mpg = pd.read_csv(\"mpg2.csv\")\n",
    "print(mpg.shape)\n",
    "mpg.head()"
   ]
  },
  {
   "cell_type": "markdown",
   "metadata": {},
   "source": [
    "## Question 1. Check if there are any null or NA"
   ]
  },
  {
   "cell_type": "markdown",
   "metadata": {},
   "source": [
    "**Type in your code here**"
   ]
  },
  {
   "cell_type": "code",
   "execution_count": 4,
   "metadata": {},
   "outputs": [
    {
     "data": {
      "text/plain": [
       "True"
      ]
     },
     "execution_count": 4,
     "metadata": {},
     "output_type": "execute_result"
    }
   ],
   "source": [
    "mpg.isnull().values.any()"
   ]
  },
  {
   "cell_type": "markdown",
   "metadata": {},
   "source": [
    "## Question 2. Remove any rows that has null or NA"
   ]
  },
  {
   "cell_type": "markdown",
   "metadata": {},
   "source": [
    "**Type in your code here**"
   ]
  },
  {
   "cell_type": "code",
   "execution_count": 5,
   "metadata": {
    "collapsed": true
   },
   "outputs": [],
   "source": [
    "mpg = mpg.dropna()"
   ]
  },
  {
   "cell_type": "code",
   "execution_count": 6,
   "metadata": {},
   "outputs": [
    {
     "data": {
      "text/plain": [
       "False"
      ]
     },
     "execution_count": 6,
     "metadata": {},
     "output_type": "execute_result"
    }
   ],
   "source": [
    "mpg.isnull().values.any()"
   ]
  },
  {
   "cell_type": "markdown",
   "metadata": {},
   "source": [
    "## Question 3. Check if there is any outliers in the mpg field"
   ]
  },
  {
   "cell_type": "markdown",
   "metadata": {},
   "source": [
    "**Type in your code here**"
   ]
  },
  {
   "cell_type": "code",
   "execution_count": 7,
   "metadata": {},
   "outputs": [
    {
     "data": {
      "image/png": "[encoded data removed]",
      "text/plain": [
       "<matplotlib.figure.Figure at 0x7f153e456e10>"
      ]
     },
     "metadata": {},
     "output_type": "display_data"
    }
   ],
   "source": [
    "plt.hist(mpg['mpg'].values)\n",
    "plt.show()"
   ]
  },
  {
   "cell_type": "code",
   "execution_count": 8,
   "metadata": {},
   "outputs": [
    {
     "data": {
      "text/plain": [
       "(393, 9)"
      ]
     },
     "execution_count": 8,
     "metadata": {},
     "output_type": "execute_result"
    }
   ],
   "source": [
    "mpg.shape"
   ]
  },
  {
   "cell_type": "markdown",
   "metadata": {},
   "source": [
    "**There is one data ...**"
   ]
  },
  {
   "cell_type": "markdown",
   "metadata": {},
   "source": [
    "## Question 4. Display and then Remove the one outlier row. You should now have 392 rows"
   ]
  },
  {
   "cell_type": "markdown",
   "metadata": {},
   "source": [
    "**Type in your code here**"
   ]
  },
  {
   "cell_type": "code",
   "execution_count": 9,
   "metadata": {},
   "outputs": [
    {
     "name": "stdout",
     "output_type": "stream",
     "text": [
      "Pandas(Index=9, mpg=90.0, cylinders=8, displacement=451.0, horsepower=450.0, weight=2555, acceleration=8.0, model_year=2020, origin='usa', name='tesla model Y')\n"
     ]
    },
    {
     "data": {
      "text/plain": [
       "(392, 9)"
      ]
     },
     "execution_count": 9,
     "metadata": {},
     "output_type": "execute_result"
    }
   ],
   "source": [
    "for i in mpg.itertuples():\n",
    "    if i.mpg == 90.0:\n",
    "        print(i)\n",
    "        mpg = mpg.drop(i.Index)\n",
    "    \n",
    "mpg.shape"
   ]
  },
  {
   "cell_type": "code",
   "execution_count": 10,
   "metadata": {},
   "outputs": [
    {
     "data": {
      "image/png": "[encoded data removed]",
      "text/plain": [
       "<matplotlib.figure.Figure at 0x7f15362c07b8>"
      ]
     },
     "metadata": {},
     "output_type": "display_data"
    }
   ],
   "source": [
    "plt.hist(mpg['mpg'].values)\n",
    "plt.show()"
   ]
  },
  {
   "cell_type": "markdown",
   "metadata": {},
   "source": [
    "## Question 5. Calculate the average acceleration cars made in usa using SQL"
   ]
  },
  {
   "cell_type": "markdown",
   "metadata": {},
   "source": [
    "**Type in your code here**"
   ]
  },
  {
   "cell_type": "code",
   "execution_count": 11,
   "metadata": {},
   "outputs": [
    {
     "name": "stdout",
     "output_type": "stream",
     "text": [
      "   average_acceleration origin\n",
      "0             14.990204    usa\n"
     ]
    }
   ],
   "source": [
    "from pandasql import sqldf\n",
    "pysqldf = lambda q: sqldf(q, globals())\n",
    "q = \"\"\"\n",
    "SELECT AVG(acceleration) as average_acceleration, origin FROM mpg\n",
    "WHERE origin = 'usa'\n",
    "\"\"\"\n",
    "print(pysqldf(q))"
   ]
  },
  {
   "cell_type": "markdown",
   "metadata": {},
   "source": [
    "## Question 6. Calculate the average horsepower for each country using SQL"
   ]
  },
  {
   "cell_type": "code",
   "execution_count": 12,
   "metadata": {},
   "outputs": [
    {
     "name": "stdout",
     "output_type": "stream",
     "text": [
      "   usa_average_horsepower origin\n",
      "0               119.04898    usa\n",
      "   japan_average_horsepower origin\n",
      "0                 79.835443  japan\n",
      "   europe_average_horsepower  origin\n",
      "0                  80.558824  europe\n"
     ]
    }
   ],
   "source": [
    "q = \"\"\"\n",
    "SELECT AVG(horsepower) as usa_average_horsepower, origin FROM mpg\n",
    "WHERE origin = 'usa'\n",
    "\"\"\"\n",
    "print(pysqldf(q))\n",
    "\n",
    "q = \"\"\"\n",
    "SELECT AVG(horsepower) as japan_average_horsepower, origin FROM mpg\n",
    "WHERE origin = 'japan'\n",
    "\"\"\"\n",
    "print(pysqldf(q))\n",
    "\n",
    "q = \"\"\"\n",
    "SELECT AVG(horsepower) as europe_average_horsepower, origin FROM mpg\n",
    "WHERE origin = 'europe'\n",
    "\"\"\"\n",
    "print(pysqldf(q))"
   ]
  },
  {
   "cell_type": "markdown",
   "metadata": {},
   "source": [
    "## Question 7. Calculate the number of occurrences, mean, min, max of the weight for each country using SQL"
   ]
  },
  {
   "cell_type": "markdown",
   "metadata": {},
   "source": [
    "**Type in your code here**"
   ]
  },
  {
   "cell_type": "code",
   "execution_count": 13,
   "metadata": {},
   "outputs": [
    {
     "name": "stdout",
     "output_type": "stream",
     "text": [
      "   weight origin  total_weight  mean_weight  minimum_weight  max_weight\n",
      "0    5140    usa           245  3372.489796            1800        5140\n",
      "   weight  origin  total_weight  mean_weight  minimum_weight  max_weight\n",
      "0    3820  europe            68  2433.470588            1825        3820\n",
      "   weight origin  total_weight  mean_weight  minimum_weight  max_weight\n",
      "0    2930  japan            79  2221.227848            1613        2930\n"
     ]
    }
   ],
   "source": [
    "q = \"\"\"\n",
    "SELECT weight, origin, COUNT(weight) as total_weight, AVG(weight) as mean_weight, MIN(weight) as minimum_weight, MAX(weight) as max_weight from mpg\n",
    "WHERE origin = 'usa'\n",
    "\"\"\"\n",
    "print(pysqldf(q))\n",
    "\n",
    "q = \"\"\"\n",
    "SELECT weight, origin, COUNT(weight) as total_weight, AVG(weight) as mean_weight, MIN(weight) as minimum_weight, MAX(weight) as max_weight from mpg\n",
    "WHERE origin = 'europe'\n",
    "\"\"\"\n",
    "print(pysqldf(q))\n",
    "\n",
    "q = \"\"\"\n",
    "SELECT weight, origin, COUNT(weight) as total_weight, AVG(weight) as mean_weight, MIN(weight) as minimum_weight, MAX(weight) as max_weight from mpg\n",
    "WHERE origin = 'japan'\n",
    "\"\"\"\n",
    "print(pysqldf(q))"
   ]
  },
  {
   "cell_type": "markdown",
   "metadata": {},
   "source": [
    "## Question 8. Answer Question 7 but use Pandas functions"
   ]
  },
  {
   "cell_type": "markdown",
   "metadata": {},
   "source": [
    "**Type in your code here**"
   ]
  },
  {
   "cell_type": "code",
   "execution_count": 14,
   "metadata": {
    "collapsed": true
   },
   "outputs": [],
   "source": [
    "usa = mpg[mpg.origin == 'usa']\n",
    "europe = mpg[mpg.origin == 'europe']\n",
    "japan = mpg[mpg.origin == 'japan']"
   ]
  },
  {
   "cell_type": "code",
   "execution_count": 15,
   "metadata": {},
   "outputs": [
    {
     "data": {
      "text/plain": [
       "count     245.000000\n",
       "mean     3372.489796\n",
       "std       795.346690\n",
       "min      1800.000000\n",
       "25%      2720.000000\n",
       "50%      3381.000000\n",
       "75%      4055.000000\n",
       "max      5140.000000\n",
       "Name: weight, dtype: float64"
      ]
     },
     "execution_count": 15,
     "metadata": {},
     "output_type": "execute_result"
    }
   ],
   "source": [
    "usa['weight'].describe()"
   ]
  },
  {
   "cell_type": "code",
   "execution_count": 16,
   "metadata": {},
   "outputs": [
    {
     "data": {
      "text/plain": [
       "count      68.000000\n",
       "mean     2433.470588\n",
       "std       491.813867\n",
       "min      1825.000000\n",
       "25%      2071.750000\n",
       "50%      2240.000000\n",
       "75%      2803.750000\n",
       "max      3820.000000\n",
       "Name: weight, dtype: float64"
      ]
     },
     "execution_count": 16,
     "metadata": {},
     "output_type": "execute_result"
    }
   ],
   "source": [
    "europe['weight'].describe()"
   ]
  },
  {
   "cell_type": "code",
   "execution_count": 17,
   "metadata": {},
   "outputs": [
    {
     "data": {
      "text/plain": [
       "count      79.000000\n",
       "mean     2221.227848\n",
       "std       320.497248\n",
       "min      1613.000000\n",
       "25%      1985.000000\n",
       "50%      2155.000000\n",
       "75%      2412.500000\n",
       "max      2930.000000\n",
       "Name: weight, dtype: float64"
      ]
     },
     "execution_count": 17,
     "metadata": {},
     "output_type": "execute_result"
    }
   ],
   "source": [
    "japan['weight'].describe()"
   ]
  },
  {
   "cell_type": "markdown",
   "metadata": {},
   "source": [
    "## Question 9. Calculate the Standard deviation, Skew and Kurtosis for the horsepower, weight and accleartion for each country"
   ]
  },
  {
   "cell_type": "markdown",
   "metadata": {},
   "source": [
    "**Type in your code here**"
   ]
  },
  {
   "cell_type": "code",
   "execution_count": 18,
   "metadata": {},
   "outputs": [
    {
     "data": {
      "text/plain": [
       "horsepower     -0.189521\n",
       "weight         -0.965494\n",
       "acceleration   -0.142774\n",
       "dtype: float64"
      ]
     },
     "execution_count": 18,
     "metadata": {},
     "output_type": "execute_result"
    }
   ],
   "source": [
    "usa[['horsepower','weight', 'acceleration']].kurt()"
   ]
  },
  {
   "cell_type": "code",
   "execution_count": 19,
   "metadata": {},
   "outputs": [
    {
     "data": {
      "text/plain": [
       "horsepower       39.89779\n",
       "weight          795.34669\n",
       "acceleration      2.73602\n",
       "dtype: float64"
      ]
     },
     "execution_count": 19,
     "metadata": {},
     "output_type": "execute_result"
    }
   ],
   "source": [
    "usa[['horsepower','weight', 'acceleration']].std()"
   ]
  },
  {
   "cell_type": "code",
   "execution_count": 20,
   "metadata": {},
   "outputs": [
    {
     "data": {
      "text/plain": [
       "horsepower      0.763248\n",
       "weight          0.067009\n",
       "acceleration    0.098737\n",
       "dtype: float64"
      ]
     },
     "execution_count": 20,
     "metadata": {},
     "output_type": "execute_result"
    }
   ],
   "source": [
    "usa[['horsepower','weight', 'acceleration']].skew()"
   ]
  },
  {
   "cell_type": "code",
   "execution_count": 21,
   "metadata": {},
   "outputs": [
    {
     "data": {
      "text/plain": [
       "horsepower     -0.131696\n",
       "weight         -0.380625\n",
       "acceleration   -0.528450\n",
       "dtype: float64"
      ]
     },
     "execution_count": 21,
     "metadata": {},
     "output_type": "execute_result"
    }
   ],
   "source": [
    "japan[['horsepower','weight', 'acceleration']].kurt()"
   ]
  },
  {
   "cell_type": "code",
   "execution_count": 22,
   "metadata": {},
   "outputs": [
    {
     "data": {
      "text/plain": [
       "horsepower       17.819199\n",
       "weight          320.497248\n",
       "acceleration      1.954937\n",
       "dtype: float64"
      ]
     },
     "execution_count": 22,
     "metadata": {},
     "output_type": "execute_result"
    }
   ],
   "source": [
    "japan[['horsepower','weight', 'acceleration']].std()"
   ]
  },
  {
   "cell_type": "code",
   "execution_count": 23,
   "metadata": {},
   "outputs": [
    {
     "data": {
      "text/plain": [
       "horsepower      0.660375\n",
       "weight          0.498497\n",
       "acceleration    0.042795\n",
       "dtype: float64"
      ]
     },
     "execution_count": 23,
     "metadata": {},
     "output_type": "execute_result"
    }
   ],
   "source": [
    "japan[['horsepower','weight', 'acceleration']].skew()"
   ]
  },
  {
   "cell_type": "code",
   "execution_count": 24,
   "metadata": {},
   "outputs": [
    {
     "data": {
      "text/plain": [
       "horsepower       20.157871\n",
       "weight          491.813867\n",
       "acceleration      3.087813\n",
       "dtype: float64"
      ]
     },
     "execution_count": 24,
     "metadata": {},
     "output_type": "execute_result"
    }
   ],
   "source": [
    "europe[['horsepower','weight', 'acceleration']].std()"
   ]
  },
  {
   "cell_type": "code",
   "execution_count": 25,
   "metadata": {},
   "outputs": [
    {
     "data": {
      "text/plain": [
       "horsepower     -0.059514\n",
       "weight         -0.249813\n",
       "acceleration    0.036290\n",
       "dtype: float64"
      ]
     },
     "execution_count": 25,
     "metadata": {},
     "output_type": "execute_result"
    }
   ],
   "source": [
    "europe[['horsepower','weight', 'acceleration']].kurt()"
   ]
  },
  {
   "cell_type": "code",
   "execution_count": 26,
   "metadata": {},
   "outputs": [
    {
     "data": {
      "text/plain": [
       "horsepower      0.472850\n",
       "weight          0.812081\n",
       "acceleration    0.945656\n",
       "dtype: float64"
      ]
     },
     "execution_count": 26,
     "metadata": {},
     "output_type": "execute_result"
    }
   ],
   "source": [
    "europe[['horsepower','weight', 'acceleration']].skew()"
   ]
  },
  {
   "cell_type": "markdown",
   "metadata": {},
   "source": [
    "## Question 10. How would you describe the acceleration distribution for different country based on the Skew?"
   ]
  },
  {
   "cell_type": "markdown",
   "metadata": {
    "collapsed": true
   },
   "source": [
    "** The acceleration distribution for europe seems to be positively skewed, japan seems to be symmetric, usa also seems to be symmetric **"
   ]
  },
  {
   "cell_type": "markdown",
   "metadata": {},
   "source": [
    "## Question 11. How would you describe the acceleration distribution for different country based on Kurotsis?"
   ]
  },
  {
   "cell_type": "markdown",
   "metadata": {},
   "source": [
    "** The acceleration distribution for europe seems to be leptokurtic, but both japan and usa seem to be platykurtic**"
   ]
  },
  {
   "cell_type": "markdown",
   "metadata": {},
   "source": [
    "## Question 12. Plot the histogram of acceleration distribution for different country"
   ]
  },
  {
   "cell_type": "markdown",
   "metadata": {},
   "source": [
    "**Type in your code here**"
   ]
  },
  {
   "cell_type": "code",
   "execution_count": 27,
   "metadata": {},
   "outputs": [
    {
     "data": {
      "image/png": "[encoded data removed]",
      "text/plain": [
       "<matplotlib.figure.Figure at 0x7f15361ce3c8>"
      ]
     },
     "metadata": {},
     "output_type": "display_data"
    }
   ],
   "source": [
    "plt.hist(europe[['acceleration']].values)\n",
    "plt.show()"
   ]
  },
  {
   "cell_type": "code",
   "execution_count": 28,
   "metadata": {},
   "outputs": [
    {
     "data": {
      "image/png": "[encoded data removed]",
      "text/plain": [
       "<matplotlib.figure.Figure at 0x7f153610cc18>"
      ]
     },
     "metadata": {},
     "output_type": "display_data"
    }
   ],
   "source": [
    "plt.hist(usa[['acceleration']].values)\n",
    "plt.show()"
   ]
  },
  {
   "cell_type": "code",
   "execution_count": 29,
   "metadata": {},
   "outputs": [
    {
     "data": {
      "image/png": "[encoded data removed]",
      "text/plain": [
       "<matplotlib.figure.Figure at 0x7f15360a9a90>"
      ]
     },
     "metadata": {},
     "output_type": "display_data"
    }
   ],
   "source": [
    "plt.hist(japan[['acceleration']].values)\n",
    "plt.show()"
   ]
  },
  {
   "cell_type": "markdown",
   "metadata": {},
   "source": [
    "## Question 13. Calculate correlation of all the factors among themselves"
   ]
  },
  {
   "cell_type": "markdown",
   "metadata": {},
   "source": [
    "**Type in your code here**"
   ]
  },
  {
   "cell_type": "code",
   "execution_count": 30,
   "metadata": {},
   "outputs": [
    {
     "data": {
      "text/html": [
       "<div>\n",
       "<style>\n",
       "    .dataframe thead tr:only-child th {\n",
       "        text-align: right;\n",
       "    }\n",
       "\n",
       "    .dataframe thead th {\n",
       "        text-align: left;\n",
       "    }\n",
       "\n",
       "    .dataframe tbody tr th {\n",
       "        vertical-align: top;\n",
       "    }\n",
       "</style>\n",
       "<table border=\"1\" class=\"dataframe\">\n",
       "  <thead>\n",
       "    <tr style=\"text-align: right;\">\n",
       "      <th></th>\n",
       "      <th>mpg</th>\n",
       "      <th>cylinders</th>\n",
       "      <th>displacement</th>\n",
       "      <th>horsepower</th>\n",
       "      <th>weight</th>\n",
       "      <th>acceleration</th>\n",
       "      <th>model_year</th>\n",
       "    </tr>\n",
       "  </thead>\n",
       "  <tbody>\n",
       "    <tr>\n",
       "      <th>mpg</th>\n",
       "      <td>1.000000</td>\n",
       "      <td>-0.824524</td>\n",
       "      <td>-0.834628</td>\n",
       "      <td>-0.751570</td>\n",
       "      <td>-0.846424</td>\n",
       "      <td>0.377239</td>\n",
       "      <td>0.648641</td>\n",
       "    </tr>\n",
       "    <tr>\n",
       "      <th>cylinders</th>\n",
       "      <td>-0.824524</td>\n",
       "      <td>1.000000</td>\n",
       "      <td>0.933885</td>\n",
       "      <td>0.827646</td>\n",
       "      <td>0.881609</td>\n",
       "      <td>-0.563293</td>\n",
       "      <td>-0.463986</td>\n",
       "    </tr>\n",
       "    <tr>\n",
       "      <th>displacement</th>\n",
       "      <td>-0.834628</td>\n",
       "      <td>0.933885</td>\n",
       "      <td>1.000000</td>\n",
       "      <td>0.902744</td>\n",
       "      <td>0.917588</td>\n",
       "      <td>-0.619890</td>\n",
       "      <td>-0.497591</td>\n",
       "    </tr>\n",
       "    <tr>\n",
       "      <th>horsepower</th>\n",
       "      <td>-0.751570</td>\n",
       "      <td>0.827646</td>\n",
       "      <td>0.902744</td>\n",
       "      <td>1.000000</td>\n",
       "      <td>0.838450</td>\n",
       "      <td>-0.719191</td>\n",
       "      <td>-0.495009</td>\n",
       "    </tr>\n",
       "    <tr>\n",
       "      <th>weight</th>\n",
       "      <td>-0.846424</td>\n",
       "      <td>0.881609</td>\n",
       "      <td>0.917588</td>\n",
       "      <td>0.838450</td>\n",
       "      <td>1.000000</td>\n",
       "      <td>-0.440230</td>\n",
       "      <td>-0.406388</td>\n",
       "    </tr>\n",
       "    <tr>\n",
       "      <th>acceleration</th>\n",
       "      <td>0.377239</td>\n",
       "      <td>-0.563293</td>\n",
       "      <td>-0.619890</td>\n",
       "      <td>-0.719191</td>\n",
       "      <td>-0.440230</td>\n",
       "      <td>1.000000</td>\n",
       "      <td>0.380878</td>\n",
       "    </tr>\n",
       "    <tr>\n",
       "      <th>model_year</th>\n",
       "      <td>0.648641</td>\n",
       "      <td>-0.463986</td>\n",
       "      <td>-0.497591</td>\n",
       "      <td>-0.495009</td>\n",
       "      <td>-0.406388</td>\n",
       "      <td>0.380878</td>\n",
       "      <td>1.000000</td>\n",
       "    </tr>\n",
       "  </tbody>\n",
       "</table>\n",
       "</div>"
      ],
      "text/plain": [
       "                   mpg  cylinders  displacement  horsepower    weight  \\\n",
       "mpg           1.000000  -0.824524     -0.834628   -0.751570 -0.846424   \n",
       "cylinders    -0.824524   1.000000      0.933885    0.827646  0.881609   \n",
       "displacement -0.834628   0.933885      1.000000    0.902744  0.917588   \n",
       "horsepower   -0.751570   0.827646      0.902744    1.000000  0.838450   \n",
       "weight       -0.846424   0.881609      0.917588    0.838450  1.000000   \n",
       "acceleration  0.377239  -0.563293     -0.619890   -0.719191 -0.440230   \n",
       "model_year    0.648641  -0.463986     -0.497591   -0.495009 -0.406388   \n",
       "\n",
       "              acceleration  model_year  \n",
       "mpg               0.377239    0.648641  \n",
       "cylinders        -0.563293   -0.463986  \n",
       "displacement     -0.619890   -0.497591  \n",
       "horsepower       -0.719191   -0.495009  \n",
       "weight           -0.440230   -0.406388  \n",
       "acceleration      1.000000    0.380878  \n",
       "model_year        0.380878    1.000000  "
      ]
     },
     "execution_count": 30,
     "metadata": {},
     "output_type": "execute_result"
    }
   ],
   "source": [
    "usa.corr()"
   ]
  },
  {
   "cell_type": "code",
   "execution_count": 31,
   "metadata": {},
   "outputs": [
    {
     "data": {
      "text/html": [
       "<div>\n",
       "<style>\n",
       "    .dataframe thead tr:only-child th {\n",
       "        text-align: right;\n",
       "    }\n",
       "\n",
       "    .dataframe thead th {\n",
       "        text-align: left;\n",
       "    }\n",
       "\n",
       "    .dataframe tbody tr th {\n",
       "        vertical-align: top;\n",
       "    }\n",
       "</style>\n",
       "<table border=\"1\" class=\"dataframe\">\n",
       "  <thead>\n",
       "    <tr style=\"text-align: right;\">\n",
       "      <th></th>\n",
       "      <th>mpg</th>\n",
       "      <th>cylinders</th>\n",
       "      <th>displacement</th>\n",
       "      <th>horsepower</th>\n",
       "      <th>weight</th>\n",
       "      <th>acceleration</th>\n",
       "      <th>model_year</th>\n",
       "    </tr>\n",
       "  </thead>\n",
       "  <tbody>\n",
       "    <tr>\n",
       "      <th>mpg</th>\n",
       "      <td>1.000000</td>\n",
       "      <td>-0.271719</td>\n",
       "      <td>-0.495594</td>\n",
       "      <td>-0.679575</td>\n",
       "      <td>-0.512011</td>\n",
       "      <td>0.298047</td>\n",
       "      <td>0.504231</td>\n",
       "    </tr>\n",
       "    <tr>\n",
       "      <th>cylinders</th>\n",
       "      <td>-0.271719</td>\n",
       "      <td>1.000000</td>\n",
       "      <td>0.657791</td>\n",
       "      <td>0.392653</td>\n",
       "      <td>0.574767</td>\n",
       "      <td>0.024453</td>\n",
       "      <td>0.262851</td>\n",
       "    </tr>\n",
       "    <tr>\n",
       "      <th>displacement</th>\n",
       "      <td>-0.495594</td>\n",
       "      <td>0.657791</td>\n",
       "      <td>1.000000</td>\n",
       "      <td>0.622043</td>\n",
       "      <td>0.891560</td>\n",
       "      <td>0.038032</td>\n",
       "      <td>0.206940</td>\n",
       "    </tr>\n",
       "    <tr>\n",
       "      <th>horsepower</th>\n",
       "      <td>-0.679575</td>\n",
       "      <td>0.392653</td>\n",
       "      <td>0.622043</td>\n",
       "      <td>1.000000</td>\n",
       "      <td>0.611619</td>\n",
       "      <td>-0.544388</td>\n",
       "      <td>-0.132330</td>\n",
       "    </tr>\n",
       "    <tr>\n",
       "      <th>weight</th>\n",
       "      <td>-0.512011</td>\n",
       "      <td>0.574767</td>\n",
       "      <td>0.891560</td>\n",
       "      <td>0.611619</td>\n",
       "      <td>1.000000</td>\n",
       "      <td>0.166325</td>\n",
       "      <td>0.178178</td>\n",
       "    </tr>\n",
       "    <tr>\n",
       "      <th>acceleration</th>\n",
       "      <td>0.298047</td>\n",
       "      <td>0.024453</td>\n",
       "      <td>0.038032</td>\n",
       "      <td>-0.544388</td>\n",
       "      <td>0.166325</td>\n",
       "      <td>1.000000</td>\n",
       "      <td>0.175077</td>\n",
       "    </tr>\n",
       "    <tr>\n",
       "      <th>model_year</th>\n",
       "      <td>0.504231</td>\n",
       "      <td>0.262851</td>\n",
       "      <td>0.206940</td>\n",
       "      <td>-0.132330</td>\n",
       "      <td>0.178178</td>\n",
       "      <td>0.175077</td>\n",
       "      <td>1.000000</td>\n",
       "    </tr>\n",
       "  </tbody>\n",
       "</table>\n",
       "</div>"
      ],
      "text/plain": [
       "                   mpg  cylinders  displacement  horsepower    weight  \\\n",
       "mpg           1.000000  -0.271719     -0.495594   -0.679575 -0.512011   \n",
       "cylinders    -0.271719   1.000000      0.657791    0.392653  0.574767   \n",
       "displacement -0.495594   0.657791      1.000000    0.622043  0.891560   \n",
       "horsepower   -0.679575   0.392653      0.622043    1.000000  0.611619   \n",
       "weight       -0.512011   0.574767      0.891560    0.611619  1.000000   \n",
       "acceleration  0.298047   0.024453      0.038032   -0.544388  0.166325   \n",
       "model_year    0.504231   0.262851      0.206940   -0.132330  0.178178   \n",
       "\n",
       "              acceleration  model_year  \n",
       "mpg               0.298047    0.504231  \n",
       "cylinders         0.024453    0.262851  \n",
       "displacement      0.038032    0.206940  \n",
       "horsepower       -0.544388   -0.132330  \n",
       "weight            0.166325    0.178178  \n",
       "acceleration      1.000000    0.175077  \n",
       "model_year        0.175077    1.000000  "
      ]
     },
     "execution_count": 31,
     "metadata": {},
     "output_type": "execute_result"
    }
   ],
   "source": [
    "europe.corr()"
   ]
  },
  {
   "cell_type": "code",
   "execution_count": 32,
   "metadata": {},
   "outputs": [
    {
     "data": {
      "text/html": [
       "<div>\n",
       "<style>\n",
       "    .dataframe thead tr:only-child th {\n",
       "        text-align: right;\n",
       "    }\n",
       "\n",
       "    .dataframe thead th {\n",
       "        text-align: left;\n",
       "    }\n",
       "\n",
       "    .dataframe tbody tr th {\n",
       "        vertical-align: top;\n",
       "    }\n",
       "</style>\n",
       "<table border=\"1\" class=\"dataframe\">\n",
       "  <thead>\n",
       "    <tr style=\"text-align: right;\">\n",
       "      <th></th>\n",
       "      <th>mpg</th>\n",
       "      <th>cylinders</th>\n",
       "      <th>displacement</th>\n",
       "      <th>horsepower</th>\n",
       "      <th>weight</th>\n",
       "      <th>acceleration</th>\n",
       "      <th>model_year</th>\n",
       "    </tr>\n",
       "  </thead>\n",
       "  <tbody>\n",
       "    <tr>\n",
       "      <th>mpg</th>\n",
       "      <td>1.000000</td>\n",
       "      <td>-0.139788</td>\n",
       "      <td>-0.366020</td>\n",
       "      <td>-0.673095</td>\n",
       "      <td>-0.564106</td>\n",
       "      <td>0.401114</td>\n",
       "      <td>0.568662</td>\n",
       "    </tr>\n",
       "    <tr>\n",
       "      <th>cylinders</th>\n",
       "      <td>-0.139788</td>\n",
       "      <td>1.000000</td>\n",
       "      <td>0.720992</td>\n",
       "      <td>0.431770</td>\n",
       "      <td>0.489184</td>\n",
       "      <td>-0.219675</td>\n",
       "      <td>0.085985</td>\n",
       "    </tr>\n",
       "    <tr>\n",
       "      <th>displacement</th>\n",
       "      <td>-0.366020</td>\n",
       "      <td>0.720992</td>\n",
       "      <td>1.000000</td>\n",
       "      <td>0.730176</td>\n",
       "      <td>0.841430</td>\n",
       "      <td>-0.535590</td>\n",
       "      <td>0.120835</td>\n",
       "    </tr>\n",
       "    <tr>\n",
       "      <th>horsepower</th>\n",
       "      <td>-0.673095</td>\n",
       "      <td>0.431770</td>\n",
       "      <td>0.730176</td>\n",
       "      <td>1.000000</td>\n",
       "      <td>0.867589</td>\n",
       "      <td>-0.720149</td>\n",
       "      <td>-0.215264</td>\n",
       "    </tr>\n",
       "    <tr>\n",
       "      <th>weight</th>\n",
       "      <td>-0.564106</td>\n",
       "      <td>0.489184</td>\n",
       "      <td>0.841430</td>\n",
       "      <td>0.867589</td>\n",
       "      <td>1.000000</td>\n",
       "      <td>-0.567682</td>\n",
       "      <td>0.045365</td>\n",
       "    </tr>\n",
       "    <tr>\n",
       "      <th>acceleration</th>\n",
       "      <td>0.401114</td>\n",
       "      <td>-0.219675</td>\n",
       "      <td>-0.535590</td>\n",
       "      <td>-0.720149</td>\n",
       "      <td>-0.567682</td>\n",
       "      <td>1.000000</td>\n",
       "      <td>-0.000944</td>\n",
       "    </tr>\n",
       "    <tr>\n",
       "      <th>model_year</th>\n",
       "      <td>0.568662</td>\n",
       "      <td>0.085985</td>\n",
       "      <td>0.120835</td>\n",
       "      <td>-0.215264</td>\n",
       "      <td>0.045365</td>\n",
       "      <td>-0.000944</td>\n",
       "      <td>1.000000</td>\n",
       "    </tr>\n",
       "  </tbody>\n",
       "</table>\n",
       "</div>"
      ],
      "text/plain": [
       "                   mpg  cylinders  displacement  horsepower    weight  \\\n",
       "mpg           1.000000  -0.139788     -0.366020   -0.673095 -0.564106   \n",
       "cylinders    -0.139788   1.000000      0.720992    0.431770  0.489184   \n",
       "displacement -0.366020   0.720992      1.000000    0.730176  0.841430   \n",
       "horsepower   -0.673095   0.431770      0.730176    1.000000  0.867589   \n",
       "weight       -0.564106   0.489184      0.841430    0.867589  1.000000   \n",
       "acceleration  0.401114  -0.219675     -0.535590   -0.720149 -0.567682   \n",
       "model_year    0.568662   0.085985      0.120835   -0.215264  0.045365   \n",
       "\n",
       "              acceleration  model_year  \n",
       "mpg               0.401114    0.568662  \n",
       "cylinders        -0.219675    0.085985  \n",
       "displacement     -0.535590    0.120835  \n",
       "horsepower       -0.720149   -0.215264  \n",
       "weight           -0.567682    0.045365  \n",
       "acceleration      1.000000   -0.000944  \n",
       "model_year       -0.000944    1.000000  "
      ]
     },
     "execution_count": 32,
     "metadata": {},
     "output_type": "execute_result"
    }
   ],
   "source": [
    "japan.corr()"
   ]
  },
  {
   "cell_type": "markdown",
   "metadata": {},
   "source": [
    "## Question 14. Which factors (cylinders, horsepower or weight) will affect your mileage the most based on correlation?"
   ]
  },
  {
   "cell_type": "markdown",
   "metadata": {},
   "source": [
    "**The horsepower seems to be the factor that affects your mileage the most since it's lower than weight and cylinders**"
   ]
  },
  {
   "cell_type": "markdown",
   "metadata": {},
   "source": [
    "## Question 15. Does the result depend on the country? If yes, how?"
   ]
  },
  {
   "cell_type": "markdown",
   "metadata": {},
   "source": [
    "**Yes, in usa the factor that affects it the most is not horsepower, but is actually the weight**"
   ]
  }
 ],
 "metadata": {
  "kernelspec": {
   "display_name": "Python 3",
   "language": "python",
   "name": "python3"
  },
  "language_info": {
   "codemirror_mode": {
    "name": "ipython",
    "version": 3
   },
   "file_extension": ".py",
   "mimetype": "text/x-python",
   "name": "python",
   "nbconvert_exporter": "python",
   "pygments_lexer": "ipython3",
   "version": "3.7.3"
  }
 },
 "nbformat": 4,
 "nbformat_minor": 2
}
