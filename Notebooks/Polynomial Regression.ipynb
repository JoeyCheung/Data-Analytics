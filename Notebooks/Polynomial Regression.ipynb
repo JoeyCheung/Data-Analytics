{
 "cells": [
  {
   "cell_type": "markdown",
   "metadata": {},
   "source": [
    "# Polynomial Regression"
   ]
  },
  {
   "cell_type": "code",
   "execution_count": 5,
   "metadata": {},
   "outputs": [],
   "source": [
    "import pandas as pd\n",
    "import numpy as np\n",
    "import seaborn as sns\n",
    "import matplotlib.pyplot as plt\n",
    "import random"
   ]
  },
  {
   "cell_type": "code",
   "execution_count": 6,
   "metadata": {},
   "outputs": [],
   "source": [
    "m = 100\n",
    "X = 6 * np.random.rand(m, 1) - 3\n",
    "y = 0.5 * X**2 + X + 2 + np.random.randn(m, 1)"
   ]
  },
  {
   "cell_type": "code",
   "execution_count": 7,
   "metadata": {},
   "outputs": [
    {
     "data": {
      "text/plain": [
       "(array([16., 11., 12., 12., 10.,  8.,  8.,  7.,  6., 10.]),\n",
       " array([8.95825859e-04, 9.91152571e-02, 1.97334688e-01, 2.95554119e-01,\n",
       "        3.93773551e-01, 4.91992982e-01, 5.90212413e-01, 6.88431844e-01,\n",
       "        7.86651275e-01, 8.84870707e-01, 9.83090138e-01]),\n",
       " <a list of 10 Patch objects>)"
      ]
     },
     "execution_count": 7,
     "metadata": {},
     "output_type": "execute_result"
    },
    {
     "data": {
      "image/png": "[encoded data removed]",
      "text/plain": [
       "<Figure size 432x288 with 1 Axes>"
      ]
     },
     "metadata": {
      "needs_background": "light"
     },
     "output_type": "display_data"
    }
   ],
   "source": [
    "plt.hist(np.random.rand(m, 1))"
   ]
  },
  {
   "cell_type": "code",
   "execution_count": 8,
   "metadata": {},
   "outputs": [
    {
     "data": {
      "text/plain": [
       "<matplotlib.axes._subplots.AxesSubplot at 0x1d622dca160>"
      ]
     },
     "execution_count": 8,
     "metadata": {},
     "output_type": "execute_result"
    },
    {
     "data": {
      "image/png": "[encoded data removed]",
      "text/plain": [
       "<Figure size 432x288 with 1 Axes>"
      ]
     },
     "metadata": {
      "needs_background": "light"
     },
     "output_type": "display_data"
    }
   ],
   "source": [
    "df = pd.DataFrame({'X': list(X), 'y': list(y)})\n",
    "sns.scatterplot(x='X', y='y', data=df)"
   ]
  },
  {
   "cell_type": "code",
   "execution_count": 9,
   "metadata": {},
   "outputs": [],
   "source": [
    "from sklearn.linear_model import LinearRegression\n",
    "from sklearn.model_selection import train_test_split\n",
    "from sklearn import metrics"
   ]
  },
  {
   "cell_type": "code",
   "execution_count": 10,
   "metadata": {},
   "outputs": [
    {
     "name": "stdout",
     "output_type": "stream",
     "text": [
      "[3.29855883]\n",
      "[[1.11557834]]\n"
     ]
    }
   ],
   "source": [
    "lin_model = LinearRegression()\n",
    "lin_model.fit(X, y)\n",
    "y_lin_pred = lin_model.predict(X)\n",
    "df['y_lin_pred'] = y_lin_pred\n",
    "print(lin_model.intercept_)\n",
    "print(lin_model.coef_)"
   ]
  },
  {
   "cell_type": "code",
   "execution_count": 11,
   "metadata": {},
   "outputs": [
    {
     "data": {
      "text/plain": [
       "<matplotlib.axes._subplots.AxesSubplot at 0x1d6249ee828>"
      ]
     },
     "execution_count": 11,
     "metadata": {},
     "output_type": "execute_result"
    },
    {
     "data": {
      "image/png": "[encoded data removed]",
      "text/plain": [
       "<Figure size 432x288 with 1 Axes>"
      ]
     },
     "metadata": {
      "needs_background": "light"
     },
     "output_type": "display_data"
    }
   ],
   "source": [
    "sns.scatterplot(x='X', y='y', data=df)\n",
    "sns.scatterplot(x='X', y=df['y_lin_pred'], data=df)"
   ]
  },
  {
   "cell_type": "markdown",
   "metadata": {},
   "source": [
    "## Clearly a straight line will never fit the graph properly"
   ]
  },
  {
   "cell_type": "code",
   "execution_count": 31,
   "metadata": {},
   "outputs": [],
   "source": [
    "from sklearn.preprocessing import PolynomialFeatures"
   ]
  },
  {
   "cell_type": "code",
   "execution_count": 32,
   "metadata": {},
   "outputs": [],
   "source": [
    "poly_features = PolynomialFeatures(degree=2, include_bias=False)"
   ]
  },
  {
   "cell_type": "code",
   "execution_count": 33,
   "metadata": {},
   "outputs": [
    {
     "data": {
      "text/plain": [
       "PolynomialFeatures(degree=2, include_bias=False, interaction_only=False)"
      ]
     },
     "execution_count": 33,
     "metadata": {},
     "output_type": "execute_result"
    }
   ],
   "source": [
    "poly_features"
   ]
  },
  {
   "cell_type": "code",
   "execution_count": 34,
   "metadata": {},
   "outputs": [
    {
     "data": {
      "text/plain": [
       "array([1.25017483])"
      ]
     },
     "execution_count": 34,
     "metadata": {},
     "output_type": "execute_result"
    }
   ],
   "source": [
    "X_poly = poly_features.fit_transform(X)\n",
    "X[0]"
   ]
  },
  {
   "cell_type": "code",
   "execution_count": 35,
   "metadata": {},
   "outputs": [
    {
     "data": {
      "text/plain": [
       "array([1.25017483, 1.56293711])"
      ]
     },
     "execution_count": 35,
     "metadata": {},
     "output_type": "execute_result"
    }
   ],
   "source": [
    "X_poly[0]"
   ]
  },
  {
   "cell_type": "code",
   "execution_count": 36,
   "metadata": {},
   "outputs": [
    {
     "data": {
      "text/plain": [
       "1.5629371055655288"
      ]
     },
     "execution_count": 36,
     "metadata": {},
     "output_type": "execute_result"
    }
   ],
   "source": [
    "1.25017483 * 1.25017483"
   ]
  },
  {
   "cell_type": "code",
   "execution_count": 37,
   "metadata": {},
   "outputs": [],
   "source": [
    "# X_poly now contains X as well as X^2"
   ]
  },
  {
   "cell_type": "code",
   "execution_count": 38,
   "metadata": {},
   "outputs": [
    {
     "name": "stdout",
     "output_type": "stream",
     "text": [
      "[1.84084161]\n",
      "[[1.05043041 0.47748382]]\n"
     ]
    }
   ],
   "source": [
    "from sklearn.linear_model import LinearRegression\n",
    "from sklearn.model_selection import train_test_split\n",
    "from sklearn import metrics\n",
    "\n",
    "model = LinearRegression()\n",
    "model.fit(X_poly, y)\n",
    "print(model.intercept_)\n",
    "print(model.coef_)"
   ]
  },
  {
   "cell_type": "markdown",
   "metadata": {},
   "source": [
    "# That is we predict  y = 0.477 * X^2 + 1.05 * X + 1.84"
   ]
  },
  {
   "cell_type": "markdown",
   "metadata": {},
   "source": [
    "# while the actual is y = 0.5 * X^2 + 1.0 * X + 2.0 + Gaussian noise"
   ]
  },
  {
   "cell_type": "code",
   "execution_count": 39,
   "metadata": {},
   "outputs": [
    {
     "data": {
      "text/html": [
       "<div>\n",
       "<style scoped>\n",
       "    .dataframe tbody tr th:only-of-type {\n",
       "        vertical-align: middle;\n",
       "    }\n",
       "\n",
       "    .dataframe tbody tr th {\n",
       "        vertical-align: top;\n",
       "    }\n",
       "\n",
       "    .dataframe thead th {\n",
       "        text-align: right;\n",
       "    }\n",
       "</style>\n",
       "<table border=\"1\" class=\"dataframe\">\n",
       "  <thead>\n",
       "    <tr style=\"text-align: right;\">\n",
       "      <th></th>\n",
       "      <th>X</th>\n",
       "      <th>y</th>\n",
       "      <th>y_lin_pred</th>\n",
       "      <th>y_pred</th>\n",
       "      <th>y_pred20</th>\n",
       "    </tr>\n",
       "  </thead>\n",
       "  <tbody>\n",
       "    <tr>\n",
       "      <th>0</th>\n",
       "      <td>[1.2501748312028829]</td>\n",
       "      <td>[3.7402978755334964]</td>\n",
       "      <td>4.693227</td>\n",
       "      <td>3.900340</td>\n",
       "      <td>4.171414</td>\n",
       "    </tr>\n",
       "    <tr>\n",
       "      <th>1</th>\n",
       "      <td>[1.1382149114879478]</td>\n",
       "      <td>[2.9752785471883554]</td>\n",
       "      <td>4.568327</td>\n",
       "      <td>3.655053</td>\n",
       "      <td>4.223750</td>\n",
       "    </tr>\n",
       "    <tr>\n",
       "      <th>2</th>\n",
       "      <td>[1.7452126629689753]</td>\n",
       "      <td>[6.301303323708394]</td>\n",
       "      <td>5.245480</td>\n",
       "      <td>5.128371</td>\n",
       "      <td>5.998922</td>\n",
       "    </tr>\n",
       "    <tr>\n",
       "      <th>3</th>\n",
       "      <td>[2.9843153143615737]</td>\n",
       "      <td>[8.599283345619522]</td>\n",
       "      <td>6.627796</td>\n",
       "      <td>9.228194</td>\n",
       "      <td>8.606218</td>\n",
       "    </tr>\n",
       "    <tr>\n",
       "      <th>4</th>\n",
       "      <td>[-1.3853720150634659]</td>\n",
       "      <td>[-0.12372720114111235]</td>\n",
       "      <td>1.753068</td>\n",
       "      <td>1.302018</td>\n",
       "      <td>1.190715</td>\n",
       "    </tr>\n",
       "  </tbody>\n",
       "</table>\n",
       "</div>"
      ],
      "text/plain": [
       "                       X                       y  y_lin_pred    y_pred  \\\n",
       "0   [1.2501748312028829]    [3.7402978755334964]    4.693227  3.900340   \n",
       "1   [1.1382149114879478]    [2.9752785471883554]    4.568327  3.655053   \n",
       "2   [1.7452126629689753]     [6.301303323708394]    5.245480  5.128371   \n",
       "3   [2.9843153143615737]     [8.599283345619522]    6.627796  9.228194   \n",
       "4  [-1.3853720150634659]  [-0.12372720114111235]    1.753068  1.302018   \n",
       "\n",
       "   y_pred20  \n",
       "0  4.171414  \n",
       "1  4.223750  \n",
       "2  5.998922  \n",
       "3  8.606218  \n",
       "4  1.190715  "
      ]
     },
     "execution_count": 39,
     "metadata": {},
     "output_type": "execute_result"
    }
   ],
   "source": [
    "y_pred = model.predict(X_poly)\n",
    "df['y_pred'] = y_pred\n",
    "df.head()"
   ]
  },
  {
   "cell_type": "code",
   "execution_count": 40,
   "metadata": {},
   "outputs": [
    {
     "data": {
      "text/plain": [
       "<matplotlib.axes._subplots.AxesSubplot at 0x1d624fafd30>"
      ]
     },
     "execution_count": 40,
     "metadata": {},
     "output_type": "execute_result"
    },
    {
     "data": {
      "image/png": "[encoded data removed]",
      "text/plain": [
       "<Figure size 432x288 with 1 Axes>"
      ]
     },
     "metadata": {
      "needs_background": "light"
     },
     "output_type": "display_data"
    }
   ],
   "source": [
    "sns.scatterplot(x='X', y=df['y_pred'], data=df, color='red')\n",
    "sns.scatterplot(x='X', y='y', data=df, color='blue')"
   ]
  },
  {
   "cell_type": "markdown",
   "metadata": {},
   "source": [
    "## You can fit a higher degree polynomial"
   ]
  },
  {
   "cell_type": "code",
   "execution_count": 41,
   "metadata": {},
   "outputs": [],
   "source": [
    "poly20 = PolynomialFeatures(degree=20, include_bias=True)\n",
    "X_poly20 = poly20.fit_transform(X)\n",
    "model20 = LinearRegression()\n",
    "model20.fit(X_poly20, y)\n",
    "y_pred20 = model20.predict(X_poly20)\n"
   ]
  },
  {
   "cell_type": "code",
   "execution_count": 42,
   "metadata": {},
   "outputs": [
    {
     "data": {
      "text/html": [
       "<div>\n",
       "<style scoped>\n",
       "    .dataframe tbody tr th:only-of-type {\n",
       "        vertical-align: middle;\n",
       "    }\n",
       "\n",
       "    .dataframe tbody tr th {\n",
       "        vertical-align: top;\n",
       "    }\n",
       "\n",
       "    .dataframe thead th {\n",
       "        text-align: right;\n",
       "    }\n",
       "</style>\n",
       "<table border=\"1\" class=\"dataframe\">\n",
       "  <thead>\n",
       "    <tr style=\"text-align: right;\">\n",
       "      <th></th>\n",
       "      <th>X</th>\n",
       "      <th>y</th>\n",
       "      <th>y_lin_pred</th>\n",
       "      <th>y_pred</th>\n",
       "      <th>y_pred20</th>\n",
       "    </tr>\n",
       "  </thead>\n",
       "  <tbody>\n",
       "    <tr>\n",
       "      <th>0</th>\n",
       "      <td>[1.2501748312028829]</td>\n",
       "      <td>[3.7402978755334964]</td>\n",
       "      <td>4.693227</td>\n",
       "      <td>3.900340</td>\n",
       "      <td>4.171414</td>\n",
       "    </tr>\n",
       "    <tr>\n",
       "      <th>1</th>\n",
       "      <td>[1.1382149114879478]</td>\n",
       "      <td>[2.9752785471883554]</td>\n",
       "      <td>4.568327</td>\n",
       "      <td>3.655053</td>\n",
       "      <td>4.223750</td>\n",
       "    </tr>\n",
       "    <tr>\n",
       "      <th>2</th>\n",
       "      <td>[1.7452126629689753]</td>\n",
       "      <td>[6.301303323708394]</td>\n",
       "      <td>5.245480</td>\n",
       "      <td>5.128371</td>\n",
       "      <td>5.998922</td>\n",
       "    </tr>\n",
       "    <tr>\n",
       "      <th>3</th>\n",
       "      <td>[2.9843153143615737]</td>\n",
       "      <td>[8.599283345619522]</td>\n",
       "      <td>6.627796</td>\n",
       "      <td>9.228194</td>\n",
       "      <td>8.606218</td>\n",
       "    </tr>\n",
       "    <tr>\n",
       "      <th>4</th>\n",
       "      <td>[-1.3853720150634659]</td>\n",
       "      <td>[-0.12372720114111235]</td>\n",
       "      <td>1.753068</td>\n",
       "      <td>1.302018</td>\n",
       "      <td>1.190715</td>\n",
       "    </tr>\n",
       "  </tbody>\n",
       "</table>\n",
       "</div>"
      ],
      "text/plain": [
       "                       X                       y  y_lin_pred    y_pred  \\\n",
       "0   [1.2501748312028829]    [3.7402978755334964]    4.693227  3.900340   \n",
       "1   [1.1382149114879478]    [2.9752785471883554]    4.568327  3.655053   \n",
       "2   [1.7452126629689753]     [6.301303323708394]    5.245480  5.128371   \n",
       "3   [2.9843153143615737]     [8.599283345619522]    6.627796  9.228194   \n",
       "4  [-1.3853720150634659]  [-0.12372720114111235]    1.753068  1.302018   \n",
       "\n",
       "   y_pred20  \n",
       "0  4.171414  \n",
       "1  4.223750  \n",
       "2  5.998922  \n",
       "3  8.606218  \n",
       "4  1.190715  "
      ]
     },
     "execution_count": 42,
     "metadata": {},
     "output_type": "execute_result"
    }
   ],
   "source": [
    "df['y_pred20'] = y_pred20\n",
    "df.head()"
   ]
  },
  {
   "cell_type": "code",
   "execution_count": 43,
   "metadata": {},
   "outputs": [
    {
     "name": "stdout",
     "output_type": "stream",
     "text": [
      "Root Mean Squared Error with 1-degree polynomial: 1.6805510445793352\n",
      "Root Mean Squared Error with 2-degree polynomial: 0.9620469231029486\n",
      "Root Mean Squared Error with 20-degree polynomial  0.8183514240858651\n"
     ]
    }
   ],
   "source": [
    "print('Root Mean Squared Error with 1-degree polynomial:', np.sqrt(metrics.mean_squared_error(y, y_lin_pred)))\n",
    "print('Root Mean Squared Error with 2-degree polynomial:', np.sqrt(metrics.mean_squared_error(y, y_pred)))\n",
    "print('Root Mean Squared Error with 20-degree polynomial ', np.sqrt(metrics.mean_squared_error(y, y_pred20)))"
   ]
  },
  {
   "cell_type": "code",
   "execution_count": 46,
   "metadata": {},
   "outputs": [
    {
     "data": {
      "text/plain": [
       "<matplotlib.axes._subplots.AxesSubplot at 0x1d6250ca780>"
      ]
     },
     "execution_count": 46,
     "metadata": {},
     "output_type": "execute_result"
    },
    {
     "data": {
      "image/png": "[encoded data removed]",
      "text/plain": [
       "<Figure size 432x288 with 1 Axes>"
      ]
     },
     "metadata": {
      "needs_background": "light"
     },
     "output_type": "display_data"
    }
   ],
   "source": [
    "sns.scatterplot(x='X', y='y', data=df, color='gray')\n",
    "sns.scatterplot(x='X', y=df['y_lin_pred'], data=df, color='red')\n",
    "sns.scatterplot(x='X', y=df['y_pred'], data=df, color='blue')\n",
    "sns.scatterplot(x='X', y=df['y_pred20'], data=df, color='green')"
   ]
  },
  {
   "cell_type": "markdown",
   "metadata": {},
   "source": [
    "## Green line has LOWEST root mean square ERROR than the Red Line"
   ]
  },
  {
   "cell_type": "markdown",
   "metadata": {},
   "source": [
    "## HOWEVER, Green line may be OVERFITTING while RED line UNDERFIT"
   ]
  },
  {
   "cell_type": "code",
   "execution_count": null,
   "metadata": {},
   "outputs": [],
   "source": []
  }
 ],
 "metadata": {
  "kernelspec": {
   "display_name": "Python 3",
   "language": "python",
   "name": "python3"
  },
  "language_info": {
   "codemirror_mode": {
    "name": "ipython",
    "version": 3
   },
   "file_extension": ".py",
   "mimetype": "text/x-python",
   "name": "python",
   "nbconvert_exporter": "python",
   "pygments_lexer": "ipython3",
   "version": "3.7.1"
  }
 },
 "nbformat": 4,
 "nbformat_minor": 2
}
